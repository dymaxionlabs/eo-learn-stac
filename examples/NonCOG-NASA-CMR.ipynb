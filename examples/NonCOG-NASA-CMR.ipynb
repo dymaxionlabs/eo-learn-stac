{
 "cells": [
  {
   "cell_type": "markdown",
   "metadata": {},
   "source": [
    "# HDF assets from NASA-CMR"
   ]
  },
  {
   "cell_type": "code",
   "execution_count": 1,
   "metadata": {},
   "outputs": [],
   "source": [
    "from eolearn.stac import STACInputTask\n",
    "from eolearn.core import SaveTask, OverwritePermission, LinearWorkflow, EOExecutor\n",
    "from sentinelhub import BBox, CRS\n",
    "from datetime import date\n",
    "import logging\n",
    "import os"
   ]
  },
  {
   "cell_type": "code",
   "execution_count": 2,
   "metadata": {},
   "outputs": [
    {
     "name": "stderr",
     "output_type": "stream",
     "text": [
      "/home/munshkr/.local/lib/python3.8/site-packages/ipykernel/ipkernel.py:283: DeprecationWarning: `should_run_async` will not call `transform_cell` automatically in the future. Please pass the result to `transformed_cell` argument and any exception that happen during thetransform in `preprocessing_exc_tuple` in IPython 7.17 and above.\n",
      "  and should_run_async(code)\n"
     ]
    }
   ],
   "source": [
    "OUTPUT_DIR = \"mod11a2-patches\"\n",
    "CACHE_DIR = \"mod11a2-cache\""
   ]
  },
  {
   "cell_type": "code",
   "execution_count": 3,
   "metadata": {},
   "outputs": [],
   "source": [
    "os.makedirs(OUTPUT_DIR, exist_ok=True)"
   ]
  },
  {
   "cell_type": "code",
   "execution_count": 4,
   "metadata": {},
   "outputs": [],
   "source": [
    "add_data = STACInputTask(\n",
    "    catalog_url=\"http://localhost:3000/dev/stac/LPDAAC_ECS\",\n",
    "    collection_name=\"MOD11A2.v006\",\n",
    "    assets={\"data\"},\n",
    "    subdataset=\"HDF4_EOS:EOS_GRID:%s:MODIS_Grid_8Day_1km_LST:LST_Day_1km\",\n",
    ")\n",
    "\n",
    "save = SaveTask(\n",
    "    OUTPUT_DIR,\n",
    "    overwrite_permission=OverwritePermission.OVERWRITE_PATCH,\n",
    ")\n",
    "\n",
    "workflow = LinearWorkflow(\n",
    "    add_data,\n",
    "    save\n",
    ")"
   ]
  },
  {
   "cell_type": "code",
   "execution_count": 5,
   "metadata": {},
   "outputs": [],
   "source": [
    "bboxes = [\n",
    "    BBox([-64.3097860799999808,-31.5249839339999767, -64.0573813509999468,-31.3085281599999803], CRS('4326'))\n",
    "]\n",
    "time_interval = (date(2020, 10, 1), date(2020, 10, 31))"
   ]
  },
  {
   "cell_type": "markdown",
   "metadata": {},
   "source": [
    "## Debug"
   ]
  },
  {
   "cell_type": "code",
   "execution_count": 6,
   "metadata": {},
   "outputs": [],
   "source": [
    "# logging.basicConfig(level=logging.DEBUG)"
   ]
  },
  {
   "cell_type": "code",
   "execution_count": 7,
   "metadata": {},
   "outputs": [],
   "source": [
    "# add_data.execute(bbox=bboxes[0], time_interval=time_interval)"
   ]
  },
  {
   "cell_type": "markdown",
   "metadata": {},
   "source": [
    "## Workflow"
   ]
  },
  {
   "cell_type": "code",
   "execution_count": 8,
   "metadata": {},
   "outputs": [],
   "source": [
    "execution_args = []\n",
    "for i, bbox in enumerate(bboxes):\n",
    "    execution_args.append(\n",
    "        {\n",
    "            add_data: {\"bbox\": bbox, \"time_interval\": time_interval},\n",
    "            save: {\"eopatch_folder\": str(i)},\n",
    "        }\n",
    "    )"
   ]
  },
  {
   "cell_type": "code",
   "execution_count": 9,
   "metadata": {},
   "outputs": [
    {
     "data": {
      "application/vnd.jupyter.widget-view+json": {
       "model_id": "ab3cb7fd93ea4d0fa5592bf1b61e0cdb",
       "version_major": 2,
       "version_minor": 0
      },
      "text/plain": [
       "  0%|          | 0/1 [00:00<?, ?it/s]"
      ]
     },
     "metadata": {},
     "output_type": "display_data"
    }
   ],
   "source": [
    "executor = EOExecutor(workflow, execution_args, save_logs=True)\n",
    "executor.run(workers=5, multiprocess=True)\n",
    "\n",
    "executor.make_report()\n",
    "\n",
    "failed_ids = executor.get_failed_executions()\n",
    "if failed_ids:\n",
    "    raise RuntimeError(\n",
    "        f\"Execution failed EOPatches with IDs:\\n{failed_ids}\\n\"\n",
    "        f\"For more info check report at {executor.get_report_filename()}\"\n",
    "    )"
   ]
  },
  {
   "cell_type": "markdown",
   "metadata": {},
   "source": [
    "## Visualize patches"
   ]
  },
  {
   "cell_type": "code",
   "execution_count": 33,
   "metadata": {},
   "outputs": [],
   "source": [
    "from eolearn.core import EOPatch\n",
    "import matplotlib.pyplot as plt"
   ]
  },
  {
   "cell_type": "code",
   "execution_count": 34,
   "metadata": {},
   "outputs": [
    {
     "data": {
      "text/plain": [
       "EOPatch(\n",
       "  data: {\n",
       "    BANDS: numpy.ndarray(shape=(4, 26, 42, 1), dtype=uint16)\n",
       "  }\n",
       "  mask: {}\n",
       "  scalar: {}\n",
       "  label: {}\n",
       "  vector: {}\n",
       "  data_timeless: {}\n",
       "  mask_timeless: {}\n",
       "  scalar_timeless: {}\n",
       "  label_timeless: {}\n",
       "  vector_timeless: {}\n",
       "  meta_info: {\n",
       "    size_x: 42\n",
       "    size_y: 26\n",
       "    stac_items: '[[[[{\"type\": \"Feature\", \"id\": \"SC:MOD11A2.006:2412510512\", \"stac_version\": \"1.0.0\", \"stac_extensions\": [], \"collection\": \"MOD11A2.v006\", \"geometry\": {\"type\": \"Polygon\", \"coordinates\": [[[-78.3298664, -39.9958333], [-65.2758149, -39.9958333], [-57.7446983, -30.0041667], [-69.2926546, -30.0041667], [-78.3298664, -39.9958333]]]}, \"bbox\": [-78.329866, -40.179391, -57.744698, -30.004167], \"links\": [{\"rel\": \"self\", \"href\": \"http://localhost:3000/dev/stac/LPDAAC_ECS/collections/MOD11A2.v006/items/SC:MOD11A2.006:2412510512\"}, {\"rel\": \"parent\", \"href\": \"http://localhost:3000/dev/stac/LPDAAC_ECS/collections/MOD11A2.v006\"}, {\"rel\": \"collection\", \"href\": \"http://localhost:3000/dev/stac/LPDAAC_ECS/collections/MOD11A2.v006\"}, {\"rel\": \"root\", \"href\": \"http://localhost:3000/dev/stac/\"}, {\"rel\": \"provider\", \"href\": \"http://localhost:3000/dev/stac/LPDAAC_ECS\"}, {\"rel\": \"via\", \"href\": \"https://cmr.earthdata.nasa.gov/search/concepts/G1953760199-LPDAAC_ECS.json\"}, {\"rel\": \"via\", \"href\": \"https://cmr.earthdata.nasa.gov/search/concepts/G1953760199-LPDAAC_ECS.umm_json\"}], \"properties\": {\"datetime\": \"2020-10-07T00:00:00.000Z\", \"start_datetime\": \"2020-10-07T00:00:00.000Z\", \"end_datetime\": \"2020-10-14T23:59:59.000Z\"}, \"assets\": {\"data\": {\"title\": \"MOD11A2.A2020281.h12v12.006.2020291112824.hdf. MimeType: application/x-hdfeos\", \"href\": \"https://e4ftl01.cr.usgs.gov//MODV6_Cmp_B/MOLT/MOD11A2.006/2020.10.07/MOD11A2.A2020281.h12v12.006.2020291112824.hdf\", \"type\": \"application/x-hdfeos\"}, \"browse\": {\"title\": \"This Browse file may be downloaded directly from this link (BROWSE)\", \"href\": \"https://e4ftl01.cr.usgs.gov//WORKING/BRWS/Browse.001/2020.10.17/BROWSE.MOD11A2.A2020281.h12v12.006.2020291072824.1.jpg\", \"type\": \"image/jpeg\"}, \"metadata\": {\"href\": \"https://cmr.earthdata.nasa.gov/search/concepts/G1953760199-LPDAAC_ECS.xml\", \"type\": \"application/xml\"}}}, \"/tmp/eo-learn-stac_u0q9f2ms/extracted/MOD11A2.A2020281.h12v12.006.2020291112824.tif\"]], \"/tmp/eo-learn-stac_u0q9f2ms/merged/0_20201007.tif\"], [[[{\"type\": \"Feature\", \"id\": \"SC:MOD11A2.006:2414471764\", \"stac_version\": \"1.0.0\", \"stac_extensions\": [], \"collection\": \"MOD11A2.v006\", \"geometry\": {\"type\": \"Polygon\", \"coordinates\": [[[-78.3298664, -39.9958333], [-65.2758149, -39.9958333], [-57.7446983, -30.0041667], [-69.2926546, -30.0041667], [-78.3298664, -39.9958333]]]}, \"bbox\": [-78.329866, -40.179391, -57.744698, -30.004167], \"links\": [{\"rel\": \"self\", \"href\": \"http://localhost:3000/dev/stac/LPDAAC_ECS/collections/MOD11A2.v006/items/SC:MOD11A2.006:2414471764\"}, {\"rel\": \"parent\", \"href\": \"http://localhost:3000/dev/stac/LPDAAC_ECS/collections/MOD11A2.v006\"}, {\"rel\": \"collection\", \"href\": \"http://localhost:3000/dev/stac/LPDAAC_ECS/collections/MOD11A2.v006\"}, {\"rel\": \"root\", \"href\": \"http://localhost:3000/dev/stac/\"}, {\"rel\": \"provider\", \"href\": \"http://localhost:3000/dev/stac/LPDAAC_ECS\"}, {\"rel\": \"via\", \"href\": \"https://cmr.earthdata.nasa.gov/search/concepts/G1958368324-LPDAAC_ECS.json\"}, {\"rel\": \"via\", \"href\": \"https://cmr.earthdata.nasa.gov/search/concepts/G1958368324-LPDAAC_ECS.umm_json\"}], \"properties\": {\"datetime\": \"2020-10-15T00:00:00.000Z\", \"start_datetime\": \"2020-10-15T00:00:00.000Z\", \"end_datetime\": \"2020-10-22T23:59:59.000Z\"}, \"assets\": {\"data\": {\"title\": \"MOD11A2.A2020289.h12v12.006.2020301145905.hdf. MimeType: application/x-hdfeos\", \"href\": \"https://e4ftl01.cr.usgs.gov//MODV6_Cmp_B/MOLT/MOD11A2.006/2020.10.15/MOD11A2.A2020289.h12v12.006.2020301145905.hdf\", \"type\": \"application/x-hdfeos\"}, \"browse\": {\"title\": \"This Browse file may be downloaded directly from this link (BROWSE)\", \"href\": \"https://e4ftl01.cr.usgs.gov//WORKING/BRWS/Browse.001/2020.10.27/BROWSE.MOD11A2.A2020289.h12v12.006.2020301105905.1.jpg\", \"type\": \"image/jpeg\"}, \"metadata\": {\"href\": \"https://cmr.earthdata.nasa.gov/search/concepts/G1958368324-LPDAAC_ECS.xml\", \"type\": \"application/xml\"}}}, \"/tmp/eo-learn-stac_u0q9f2ms/extracted/MOD11A2.A2020289.h12v12.006.2020301145905.tif\"]], \"/tmp/eo-learn-stac_u0q9f2ms/merged/1_20201015.tif\"], [[[{\"type\": \"Feature\", \"id\": \"SC:MOD11A2.006:2415630646\", \"stac_version\": \"1.0.0\", \"stac_extensions\": [], \"collection\": \"MOD11A2.v006\", \"geometry\": {\"type\": \"Polygon\", \"coordinates\": [[[-78.3298664, -39.9958333], [-65.2758149, -39.9958333], [-57.7446983, -30.0041667], [-69.2926546, -30.0041667], [-78.3298664, -39.9958333]]]}, \"bbox\": [-78.329866, -40.179391, -57.744698, -30.004167], \"links\": [{\"rel\": \"self\", \"href\": \"http://localhost:3000/dev/stac/LPDAAC_ECS/collections/MOD11A2.v006/items/SC:MOD11A2.006:2415630646\"}, {\"rel\": \"parent\", \"href\": \"http://localhost:3000/dev/stac/LPDAAC_ECS/collections/MOD11A2.v006\"}, {\"rel\": \"collection\", \"href\": \"http://localhost:3000/dev/stac/LPDAAC_ECS/collections/MOD11A2.v006\"}, {\"rel\": \"root\", \"href\": \"http://localhost:3000/dev/stac/\"}, {\"rel\": \"provider\", \"href\": \"http://localhost:3000/dev/stac/LPDAAC_ECS\"}, {\"rel\": \"via\", \"href\": \"https://cmr.earthdata.nasa.gov/search/concepts/G1961009908-LPDAAC_ECS.json\"}, {\"rel\": \"via\", \"href\": \"https://cmr.earthdata.nasa.gov/search/concepts/G1961009908-LPDAAC_ECS.umm_json\"}], \"properties\": {\"datetime\": \"2020-10-23T00:00:00.000Z\", \"start_datetime\": \"2020-10-23T00:00:00.000Z\", \"end_datetime\": \"2020-10-30T23:59:59.000Z\"}, \"assets\": {\"data\": {\"title\": \"MOD11A2.A2020297.h12v12.006.2020306033641.hdf. MimeType: application/x-hdfeos\", \"href\": \"https://e4ftl01.cr.usgs.gov//MODV6_Cmp_B/MOLT/MOD11A2.006/2020.10.23/MOD11A2.A2020297.h12v12.006.2020306033641.hdf\", \"type\": \"application/x-hdfeos\"}, \"browse\": {\"title\": \"This Browse file may be downloaded directly from this link (BROWSE)\", \"href\": \"https://e4ftl01.cr.usgs.gov//WORKING/BRWS/Browse.001/2020.11.01/BROWSE.MOD11A2.A2020297.h12v12.006.2020305233642.1.jpg\", \"type\": \"image/jpeg\"}, \"metadata\": {\"href\": \"https://cmr.earthdata.nasa.gov/search/concepts/G1961009908-LPDAAC_ECS.xml\", \"type\": \"application/xml\"}}}, \"/tmp/eo-learn-stac_u0q9f2ms/extracted/MOD11A2.A2020297.h12v12.006.2020306033641.tif\"]], \"/tmp/eo-learn-stac_u0q9f2ms/merged/2_20201023.tif\"], [[[{\"type\": \"Feature\", \"id\": \"SC:MOD11A2.006:2417481710\", \"stac_version\": \"1.0.0\", \"stac_extensions\": [], \"collection\": \"MOD11A2.v006\", \"geometry\": {\"type\": \"Polygon\", \"coordinates\": [[[-78.3298664, -39.9958333], [-65.2758149, -39.9958333], [-57.7446983, -30.0041667], [-69.2926546, -30.0041667], [-78.3298664, -39.9958333]]]}, \"bbox\": [-78.329866, -40.179391, -57.744698, -30.004167], \"links\": [{\"rel\": \"self\", \"href\": \"http://localhost:3000/dev/stac/LPDAAC_ECS/collections/MOD11A2.v006/items/SC:MOD11A2.006:2417481710\"}, {\"rel\": \"parent\", \"href\": \"http://localhost:3000/dev/stac/LPDAAC_ECS/collections/MOD11A2.v006\"}, {\"rel\": \"collection\", \"href\": \"http://localhost:3000/dev/stac/LPDAAC_ECS/collections/MOD11A2.v006\"}, {\"rel\": \"root\", \"href\": \"http://localhost:3000/dev/stac/\"}, {\"rel\": \"provider\", \"href\": \"http://localhost:3000/dev/stac/LPDAAC_ECS\"}, {\"rel\": \"via\", \"href\": \"https://cmr.earthdata.nasa.gov/search/concepts/G1965094695-LPDAAC_ECS.json\"}, {\"rel\": \"via\", \"href\": \"https://cmr.earthdata.nasa.gov/search/concepts/G1965094695-LPDAAC_ECS.umm_json\"}], \"properties\": {\"datetime\": \"2020-10-31T00:00:00.000Z\", \"start_datetime\": \"2020-10-31T00:00:00.000Z\", \"end_datetime\": \"2020-11-07T23:59:59.000Z\"}, \"assets\": {\"data\": {\"title\": \"MOD11A2.A2020305.h12v12.006.2020315081557.hdf. MimeType: application/x-hdfeos\", \"href\": \"https://e4ftl01.cr.usgs.gov//MODV6_Cmp_B/MOLT/MOD11A2.006/2020.10.31/MOD11A2.A2020305.h12v12.006.2020315081557.hdf\", \"type\": \"application/x-hdfeos\"}, \"browse\": {\"title\": \"This Browse file may be downloaded directly from this link (BROWSE)\", \"href\": \"https://e4ftl01.cr.usgs.gov//WORKING/BRWS/Browse.001/2020.11.10/BROWSE.MOD11A2.A2020305.h12v12.006.2020315031558.1.jpg\", \"type\": \"image/jpeg\"}, \"metadata\": {\"href\": \"https://cmr.earthdata.nasa.gov/search/concepts/G1965094695-LPDAAC_ECS.xml\", \"type\": \"application/xml\"}}}, \"/tmp/eo-learn-stac_u0q9f2ms/extracted/MOD11A2.A2020305.h12v12.006.2020315081557.tif\"]], \"/tmp/eo-learn-stac_u0q9f2ms/merged/3_20201031.tif\"]]'\n",
       "  }\n",
       "  bbox: BBox(((-64.30978607999998, -31.524983933999977), (-64.05738135099995, -31.30852815999998)), crs=CRS('4326'))\n",
       "  timestamp: [datetime.datetime(2020, 10, 7, 0, 0), ..., datetime.datetime(2020, 10, 31, 0, 0)], length=4\n",
       ")"
      ]
     },
     "execution_count": 34,
     "metadata": {},
     "output_type": "execute_result"
    }
   ],
   "source": [
    "patch = EOPatch.load(os.path.join(OUTPUT_DIR, \"0\"))\n",
    "patch"
   ]
  },
  {
   "cell_type": "code",
   "execution_count": 39,
   "metadata": {},
   "outputs": [
    {
     "data": {
      "text/plain": [
       "(15175, 15579)"
      ]
     },
     "execution_count": 39,
     "metadata": {},
     "output_type": "execute_result"
    }
   ],
   "source": [
    "img = patch.data['BANDS'][0, ..., 0]\n",
    "valid_img = img[img > 0]\n",
    "valid_img.min(), valid_img.max()"
   ]
  },
  {
   "cell_type": "code",
   "execution_count": 41,
   "metadata": {},
   "outputs": [
    {
     "data": {
      "text/plain": [
       "<matplotlib.image.AxesImage at 0x7f97869132e0>"
      ]
     },
     "execution_count": 41,
     "metadata": {},
     "output_type": "execute_result"
    },
    {
     "data": {
      "image/png": "[encoded data removed]",
      "text/plain": [
       "<Figure size 432x288 with 1 Axes>"
      ]
     },
     "metadata": {
      "needs_background": "light"
     },
     "output_type": "display_data"
    }
   ],
   "source": [
    "plt.imshow(img, vmin=15175, vmax=15579, cmap='inferno')"
   ]
  }
 ],
 "metadata": {
  "kernelspec": {
   "display_name": "Python 3",
   "language": "python",
   "name": "python3"
  },
  "language_info": {
   "codemirror_mode": {
    "name": "ipython",
    "version": 3
   },
   "file_extension": ".py",
   "mimetype": "text/x-python",
   "name": "python",
   "nbconvert_exporter": "python",
   "pygments_lexer": "ipython3",
   "version": "3.8.10"
  }
 },
 "nbformat": 4,
 "nbformat_minor": 4
}
